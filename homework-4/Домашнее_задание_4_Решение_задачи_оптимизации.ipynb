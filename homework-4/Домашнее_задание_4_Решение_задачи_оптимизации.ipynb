{
 "cells": [
  {
   "cell_type": "markdown",
   "metadata": {},
   "source": [
    "Решите простую задачу безусловной минимизации в двумерном пространстве:  \n",
    "$$f(\\boldsymbol x) = -8x_1 - 16x_2 + x_1^2 + 4x_2^2$$\n",
    "используя два метода:\n",
    " - аналитически (функция квадратичная, выпуклая)\n",
    " - методом градиентного спуска, используя один из методов оптимизации torch.optim"
   ]
  },
  {
   "cell_type": "markdown",
   "metadata": {},
   "source": [
    "# Аналитический метод"
   ]
  },
  {
   "cell_type": "markdown",
   "metadata": {},
   "source": [
    "$$f'_{x_1}(x) = -8 + 2x_1 = 0$$\n",
    "$$f'_{x_2}(x) = -16 + 8x_2 = 0$$\n",
    "$$x_1 = 4; x_2 = 2$$\n",
    "$$f_{min} = -32$$"
   ]
  },
  {
   "cell_type": "markdown",
   "metadata": {},
   "source": [
    "# Метод градиентного спуска, используя один из методов оптимизации torch.optim"
   ]
  },
  {
   "cell_type": "code",
   "execution_count": 1,
   "metadata": {},
   "outputs": [],
   "source": [
    "import torch\n",
    "import numpy as np"
   ]
  },
  {
   "cell_type": "code",
   "execution_count": 13,
   "metadata": {},
   "outputs": [
    {
     "name": "stdout",
     "output_type": "stream",
     "text": [
      "f_min tensor([-32.], grad_fn=<AddBackward0>), x_1 tensor([4.0000], requires_grad=True), x_2 tensor([2.], requires_grad=True)\n"
     ]
    }
   ],
   "source": [
    "import torch\n",
    "\n",
    "def f(x1, x2):\n",
    "    return -8 * x1 - 16 * x2 + x1 ** 2 + 4 * x2 ** 2\n",
    "\n",
    "x1 = torch.tensor([10], dtype=torch.float32, requires_grad=True)\n",
    "x2 = torch.tensor([-2], dtype=torch.float32, requires_grad=True)\n",
    "\n",
    "optimizer = torch.optim.SGD([x1, x2], lr=0.1)\n",
    "\n",
    "\n",
    "for i in range(100):\n",
    "    y = f(x1, x2)\n",
    "    optimizer.zero_grad()\n",
    "    y.backward()\n",
    "    optimizer.step()\n",
    "    #print(f'iteration {i}, $x_1$ {x1}, $x_2$ {x2}, loss {y}, grad $x_1$ {x1.grad}, grad $x_2$ {x2.grad}')\n",
    "print(f'f_min {y}, x_1 {x1}, x_2 {x2}')"
   ]
  }
 ],
 "metadata": {
  "kernelspec": {
   "display_name": "Python 3 (ipykernel)",
   "language": "python",
   "name": "python3"
  },
  "language_info": {
   "codemirror_mode": {
    "name": "ipython",
    "version": 3
   },
   "file_extension": ".py",
   "mimetype": "text/x-python",
   "name": "python",
   "nbconvert_exporter": "python",
   "pygments_lexer": "ipython3",
   "version": "3.11.6"
  }
 },
 "nbformat": 4,
 "nbformat_minor": 2
}
